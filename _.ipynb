{
 "cells": [
  {
   "cell_type": "markdown",
   "metadata": {},
   "source": [
    "# Material Splaterial!!!\n",
    "You need to have ImageMagick installed on your machine.  I use `subprocess.call` to invoke `magick` as a command-line application."
   ]
  },
  {
   "cell_type": "markdown",
   "metadata": {},
   "source": [
    "## Import Python Dependencies"
   ]
  },
  {
   "cell_type": "code",
   "execution_count": 10,
   "metadata": {},
   "outputs": [],
   "source": [
    "import subprocess\n",
    "import requests\n",
    "import json\n",
    "import re\n",
    "import os"
   ]
  },
  {
   "cell_type": "markdown",
   "metadata": {},
   "source": [
    "## Open Materials"
   ]
  },
  {
   "cell_type": "code",
   "execution_count": 3,
   "metadata": {},
   "outputs": [
    {
     "name": "stdout",
     "output_type": "stream",
     "text": [
      "FStringPartTexturePacksJson2022 aluminum {'alphamode': '2', 'tiling': '1', 'color': '9466552117', 'normal': '9429416517', 'metalness': '9424786272', 'roughness': '9424786620', 'height': '9424787028', 'usage': '3'}\n",
      "FStringPartTexturePacksJson2022 asphalt {'alphamode': '2', 'tiling': '1', 'color': '9930003046', 'normal': '9429452082', 'roughness': '9429450346', 'height': '9429450811', 'usage': '3'}\n",
      "FStringPartTexturePacksJson2022 basalt {'alphamode': '2', 'tiling': '1', 'color': '9920482056', 'normal': '9438413509', 'roughness': '9438412457', 'height': '9438413060', 'usage': '3'}\n",
      "FStringPartTexturePacksJson2022 brick {'alphamode': '2', 'tiling': '1', 'color': '9920482813', 'normal': '9438453869', 'roughness': '9438453413', 'height': '9438453693', 'usage': '3'}\n",
      "FStringPartTexturePacksJson2022 cobblestone {'alphamode': '2', 'tiling': '1', 'color': '9919718991', 'normal': '9438453869', 'roughness': '9438457470', 'height': '9438459171', 'usage': '3'}\n",
      "FStringPartTexturePacksJson2022 concrete {'alphamode': '2', 'tiling': '1', 'color': '9920484153', 'normal': '9438453869', 'roughness': '9466554186', 'height': '9483087946', 'usage': '3'}\n",
      "FStringPartTexturePacksJson2022 crackedlava {'alphamode': '2', 'tiling': '1', 'color': '9920484943', 'normal': '9438453869', 'roughness': '9438509046', 'emissive': '9438581672', 'height': '9438582129', 'usage': '3'}\n",
      "FStringPartTexturePacksJson2022 diamondplate {'alphamode': '2', 'tiling': '1', 'color': '10237720195', 'normal': '9438453869', 'metalness': '9438583347', 'roughness': '9438583558', 'height': '9438585582', 'usage': '3'}\n",
      "FStringPartTexturePacksJson2022 fabric {'alphamode': '2', 'tiling': '1', 'color': '9920517696', 'normal': '9438453869', 'roughness': '9873282563', 'height': '9873284088', 'usage': '3'}\n",
      "FStringPartTexturePacksJson2022 glacier {'alphamode': '2', 'tiling': '1', 'color': '9920518732', 'normal': '9438453869', 'roughness': '9438851286', 'height': '9438851515', 'usage': '3'}\n",
      "FStringPartTexturePacksJson2022 glass {'alphamode': '2', 'tiling': '1', 'color': '9438868521', 'normal': '9438453869', 'roughness': '7547304892', 'height': '9483087946', 'usage': '3'}\n",
      "FStringPartTexturePacksJson2022 granite {'alphamode': '2', 'tiling': '1', 'color': '9920550238', 'normal': '9438453869', 'roughness': '9438883109', 'height': '9483087946', 'usage': '3'}\n",
      "FStringPartTexturePacksJson2022 grass {'alphamode': '2', 'tiling': '1', 'color': '9920551868', 'normal': '9438453869', 'roughness': '9438955997', 'height': '9438956287', 'usage': '3'}\n",
      "FStringPartTexturePacksJson2022 ground {'alphamode': '2', 'tiling': '1', 'color': '9920554482', 'normal': '9438453869', 'roughness': '9439043765', 'height': '9439044318', 'usage': '3'}\n",
      "FStringPartTexturePacksJson2022 ice {'alphamode': '2', 'tiling': '1', 'color': '9920555943', 'normal': '9438453869', 'roughness': '9467301203', 'height': '9483092251', 'usage': '3'}\n",
      "FStringPartTexturePacksJson2022 leafygrass {'alphamode': '2', 'tiling': '1', 'color': '9920557906', 'normal': '9438453869', 'roughness': '9439080950', 'height': '9439149936', 'usage': '3'}\n",
      "FStringPartTexturePacksJson2022 limestone {'alphamode': '2', 'tiling': '1', 'color': '9920561437', 'normal': '9438453869', 'roughness': '9439415495', 'height': '9439415891', 'usage': '3'}\n",
      "FStringPartTexturePacksJson2022 marble {'alphamode': '2', 'tiling': '1', 'color': '9439430596', 'normal': '9438453869', 'roughness': '9439431383', 'height': '9483087946', 'usage': '3'}\n",
      "FStringPartTexturePacksJson2022 metal {'alphamode': '2', 'tiling': '1', 'color': '9920574687', 'normal': '9438453869', 'metalness': '9873318201', 'roughness': '9873318890', 'height': '9873318979', 'usage': '3'}\n",
      "FStringPartTexturePacksJson2022 mud {'alphamode': '2', 'tiling': '1', 'color': '9920578473', 'normal': '9438453869', 'roughness': '9439510012', 'height': '9439516907', 'usage': '3'}\n",
      "FStringPartTexturePacksJson2022 pavement {'alphamode': '2', 'tiling': '1', 'color': '9920579943', 'normal': '9438453869', 'roughness': '9439519532', 'height': '9439519822', 'usage': '3'}\n",
      "FStringPartTexturePacksJson2022 pebble {'alphamode': '2', 'tiling': '1', 'color': '9920581082', 'normal': '9438453869', 'roughness': '9439537267', 'height': '9439537553', 'usage': '3'}\n",
      "FStringPartTexturePacksJson2022 plastic {'usage': '3', 'alphamode': '2', 'tiling': '1', 'normal': '9475362634'}\n",
      "FStringPartTexturePacksJson2022 rock {'alphamode': '2', 'tiling': '1', 'color': '9920587470', 'normal': '9438453869', 'roughness': '9439545859', 'height': '9439546185', 'usage': '3'}\n",
      "FStringPartTexturePacksJson2022 rust {'alphamode': '2', 'tiling': '1', 'color': '9920589327', 'normal': '9439557389', 'metalness': '9439548749', 'roughness': '9439556441', 'height': '9439556630', 'usage': '3'}\n",
      "FStringPartTexturePacksJson2022 salt {'alphamode': '2', 'tiling': '1', 'color': '9920590225', 'normal': '9438453869', 'roughness': '9439566688', 'height': '9439566920', 'usage': '3'}\n",
      "FStringPartTexturePacksJson2022 sand {'alphamode': '2', 'tiling': '1', 'color': '9920591683', 'normal': '9438453869', 'roughness': '9439577327', 'height': '9439585462', 'usage': '3'}\n",
      "FStringPartTexturePacksJson2022 sandstone {'alphamode': '2', 'tiling': '1', 'color': '9920596120', 'normal': '9438453869', 'roughness': '9439596711', 'height': '9439596814', 'usage': '3'}\n",
      "FStringPartTexturePacksJson2022 slate {'alphamode': '2', 'tiling': '1', 'color': '9920599782', 'normal': '9439612902', 'roughness': '9439612733', 'height': '9483098502', 'usage': '3'}\n",
      "FStringPartTexturePacksJson2022 snow {'alphamode': '2', 'tiling': '1', 'color': '9920620284', 'normal': '9438453869', 'roughness': '9439632145', 'height': '9439632299', 'usage': '3'}\n",
      "FStringPartTexturePacksJson2022 wood {'alphamode': '2', 'tiling': '1', 'color': '9920625290', 'normal': '9439649478', 'roughness': '9439648605', 'height': '9439648989', 'usage': '3'}\n",
      "FStringPartTexturePacksJson2022 woodplanks {'alphamode': '2', 'tiling': '1', 'color': '9920626778', 'normal': '9438453869', 'roughness': '9439658127', 'height': '9439658450', 'usage': '3'}\n",
      "FStringPartTexturePacksJsonPre2022 aluminum {'usage': '1', 'alphamode': '0', 'tiling': '1', 'color': '7546644642', 'normal': '7546645052', 'metalness': '7546644642', 'roughness': '7546644963'}\n",
      "FStringPartTexturePacksJsonPre2022 brick {'usage': '1', 'alphamode': '0', 'tiling': '1', 'color': '7546648254', 'normal': '7546645052', 'roughness': '7546650017'}\n",
      "FStringPartTexturePacksJsonPre2022 cobblestone {'usage': '1', 'alphamode': '0', 'tiling': '1', 'color': '7546651802', 'normal': '7546645052', 'roughness': '7546652892'}\n",
      "FStringPartTexturePacksJsonPre2022 concrete {'usage': '1', 'alphamode': '0', 'tiling': '1', 'color': '7546653328', 'normal': '7546654098', 'roughness': '7546653868'}\n",
      "FStringPartTexturePacksJsonPre2022 diamondplate {'usage': '1', 'alphamode': '0', 'tiling': '1', 'color': '7546654401', 'normal': '7546645052', 'metalness': '7547162002', 'roughness': '7547162137'}\n",
      "FStringPartTexturePacksJsonPre2022 fabric {'usage': '1', 'alphamode': '0', 'tiling': '1', 'color': '7547100606', 'normal': '7546645052', 'roughness': '7547101072'}\n",
      "FStringPartTexturePacksJsonPre2022 glass {'usage': '1', 'alphamode': '0', 'tiling': '1', 'color': '7547304577', 'normal': '7546645052', 'roughness': '7547304892'}\n",
      "FStringPartTexturePacksJsonPre2022 granite {'usage': '1', 'alphamode': '0', 'tiling': '1', 'color': '7547164400', 'normal': '7546645052', 'roughness': '7547164660'}\n",
      "FStringPartTexturePacksJsonPre2022 grass {'usage': '1', 'alphamode': '0', 'tiling': '1', 'color': '7547167347', 'normal': '7546645052', 'roughness': '7547169207'}\n",
      "FStringPartTexturePacksJsonPre2022 ice {'usage': '1', 'alphamode': '0', 'tiling': '1', 'color': '7546644642', 'normal': '7546645052', 'roughness': '7547171276'}\n",
      "FStringPartTexturePacksJsonPre2022 marble {'usage': '1', 'alphamode': '0', 'tiling': '1', 'color': '7547174345', 'normal': '7546645052', 'roughness': '7547177213'}\n",
      "FStringPartTexturePacksJsonPre2022 metal {'usage': '1', 'alphamode': '0', 'tiling': '1', 'color': '7547178395', 'normal': '7546645052', 'metalness': '7547288112', 'roughness': '7547179082'}\n",
      "FStringPartTexturePacksJsonPre2022 pebble {'usage': '1', 'alphamode': '0', 'tiling': '1', 'color': '7547291174', 'normal': '7546645052', 'roughness': '7547291306'}\n",
      "FStringPartTexturePacksJsonPre2022 rust {'usage': '1', 'alphamode': '0', 'tiling': '1', 'color': '7547183598', 'normal': '7546645052', 'metalness': '7547184321', 'roughness': '7547184588'}\n",
      "FStringPartTexturePacksJsonPre2022 sand {'usage': '1', 'alphamode': '0', 'tiling': '1', 'color': '7547294684', 'normal': '7546645052', 'roughness': '7547295087'}\n",
      "FStringPartTexturePacksJsonPre2022 slate {'usage': '1', 'alphamode': '0', 'tiling': '1', 'color': '7547297050', 'normal': '7547298243', 'roughness': '7547298051'}\n",
      "FStringPartTexturePacksJsonPre2022 wood {'usage': '1', 'alphamode': '0', 'tiling': '1', 'color': '7547190453', 'normal': '7547298681', 'metalness': '7547190619', 'roughness': '7547303147'}\n",
      "FStringPartTexturePacksJsonPre2022 woodplanks {'usage': '1', 'alphamode': '0', 'tiling': '1', 'color': '7547301709', 'normal': '7546645052', 'metalness': '7547188891', 'roughness': '7547332869'}\n",
      "FStringPartTexturePacksJsonPre2022 asphalt {'alphamode': '2', 'tiling': '1', 'color': '9873267247', 'normal': '9429452082', 'roughness': '9429450346', 'height': '9429450811', 'usage': '3'}\n",
      "FStringPartTexturePacksJsonPre2022 basalt {'alphamode': '2', 'tiling': '1', 'color': '9873270356', 'normal': '9438413509', 'roughness': '9438412457', 'height': '9438413060', 'usage': '3'}\n",
      "FStringPartTexturePacksJsonPre2022 crackedlava {'usage': '3', 'alphamode': '2', 'tiling': '1', 'color': '9438508402', 'normal': '9438453869', 'roughness': '9438509046', 'emissive': '9438581672', 'height': '9438582129'}\n",
      "FStringPartTexturePacksJsonPre2022 glacier {'usage': '3', 'alphamode': '2', 'tiling': '1', 'color': '9438811092', 'normal': '9438453869', 'roughness': '9438851286', 'height': '9438851515'}\n",
      "FStringPartTexturePacksJsonPre2022 ground {'usage': '3', 'alphamode': '2', 'tiling': '1', 'color': '9439043136', 'normal': '9438453869', 'roughness': '9439043765', 'height': '9439044318'}\n",
      "FStringPartTexturePacksJsonPre2022 leafygrass {'alphamode': '2', 'tiling': '1', 'color': '9873287985', 'normal': '9438453869', 'roughness': '9439080950', 'height': '9439149936', 'usage': '3'}\n",
      "FStringPartTexturePacksJsonPre2022 limestone {'alphamode': '2', 'tiling': '1', 'color': '9873289710', 'normal': '9438453869', 'roughness': '9439415495', 'height': '9439415891', 'usage': '3'}\n",
      "FStringPartTexturePacksJsonPre2022 mud {'alphamode': '2', 'tiling': '1', 'color': '9873319638', 'normal': '9438453869', 'roughness': '9439510012', 'height': '9439516907', 'usage': '3'}\n",
      "FStringPartTexturePacksJsonPre2022 pavement {'alphamode': '2', 'tiling': '1', 'color': '9873322261', 'normal': '9438453869', 'roughness': '9439519532', 'height': '9439519822', 'usage': '3'}\n",
      "FStringPartTexturePacksJsonPre2022 rock {'alphamode': '2', 'tiling': '1', 'color': '9873515064', 'normal': '9438453869', 'metalness': '9439545671', 'roughness': '9439545859', 'height': '9439546185', 'usage': '3'}\n",
      "FStringPartTexturePacksJsonPre2022 salt {'usage': '3', 'alphamode': '2', 'tiling': '1', 'color': '9439557976', 'normal': '9438453869', 'roughness': '9439566688', 'height': '9439566920'}\n",
      "FStringPartTexturePacksJsonPre2022 sandstone {'alphamode': '2', 'tiling': '1', 'color': '9873521081', 'normal': '9438453869', 'roughness': '9439596711', 'height': '9439596814', 'usage': '3'}\n",
      "FStringPartTexturePacksJsonPre2022 snow {'usage': '3', 'alphamode': '2', 'tiling': '1', 'color': '9439631732', 'normal': '9438453869', 'roughness': '9439632145', 'height': '9439632299'}\n"
     ]
    }
   ],
   "source": [
    "material_packs = json.load(open('MaterialPacks.json', 'r'))\n",
    "\n",
    "result_dict = {}\n",
    "for pack_name, pack in material_packs.items():\n",
    "    png_infos = {}\n",
    "    for mtl_name, mtl in pack.items():\n",
    "        asset_id = [\n",
    "            requests.get(\n",
    "                f'https://assetdelivery.roblox.com/v1/asset/?id={asset_id}'\n",
    "            ).text\n",
    "            for asset_id in mtl['ids']\n",
    "        ]\n",
    "        mtl_result = dict(re.findall(r'<([a-z]+)>([0-9]+)', ''.join(asset_id)))\n",
    "        print(pack_name, mtl_name, mtl_result)\n",
    "        png_infos[mtl_name] = mtl_result\n",
    "    result_dict[pack_name] = png_infos"
   ]
  },
  {
   "cell_type": "markdown",
   "metadata": {},
   "source": [
    "## Save Assets (as `png` files)"
   ]
  },
  {
   "cell_type": "code",
   "execution_count": 7,
   "metadata": {},
   "outputs": [
    {
     "name": "stdout",
     "output_type": "stream",
     "text": [
      "Loaded: FStringPartTexturePacksJson2022 aluminum\n",
      "Loaded: FStringPartTexturePacksJson2022 asphalt\n",
      "Loaded: FStringPartTexturePacksJson2022 basalt\n",
      "Loaded: FStringPartTexturePacksJson2022 brick\n",
      "Loaded: FStringPartTexturePacksJson2022 cobblestone\n",
      "Loaded: FStringPartTexturePacksJson2022 concrete\n",
      "Loaded: FStringPartTexturePacksJson2022 crackedlava\n",
      "Loaded: FStringPartTexturePacksJson2022 diamondplate\n",
      "Loaded: FStringPartTexturePacksJson2022 fabric\n",
      "Loaded: FStringPartTexturePacksJson2022 glacier\n",
      "Loaded: FStringPartTexturePacksJson2022 glass\n",
      "Loaded: FStringPartTexturePacksJson2022 granite\n",
      "Loaded: FStringPartTexturePacksJson2022 grass\n",
      "Loaded: FStringPartTexturePacksJson2022 ground\n",
      "Loaded: FStringPartTexturePacksJson2022 ice\n",
      "Loaded: FStringPartTexturePacksJson2022 leafygrass\n",
      "Loaded: FStringPartTexturePacksJson2022 limestone\n",
      "Loaded: FStringPartTexturePacksJson2022 marble\n",
      "Loaded: FStringPartTexturePacksJson2022 metal\n",
      "Loaded: FStringPartTexturePacksJson2022 mud\n",
      "Loaded: FStringPartTexturePacksJson2022 pavement\n",
      "Loaded: FStringPartTexturePacksJson2022 pebble\n",
      "Loaded: FStringPartTexturePacksJson2022 plastic\n",
      "Loaded: FStringPartTexturePacksJson2022 rock\n",
      "Loaded: FStringPartTexturePacksJson2022 rust\n",
      "Loaded: FStringPartTexturePacksJson2022 salt\n",
      "Loaded: FStringPartTexturePacksJson2022 sand\n",
      "Loaded: FStringPartTexturePacksJson2022 sandstone\n",
      "Loaded: FStringPartTexturePacksJson2022 slate\n",
      "Loaded: FStringPartTexturePacksJson2022 snow\n",
      "Loaded: FStringPartTexturePacksJson2022 wood\n",
      "Loaded: FStringPartTexturePacksJson2022 woodplanks\n",
      "Loaded: FStringPartTexturePacksJsonPre2022 aluminum\n",
      "Loaded: FStringPartTexturePacksJsonPre2022 brick\n",
      "Loaded: FStringPartTexturePacksJsonPre2022 cobblestone\n",
      "Loaded: FStringPartTexturePacksJsonPre2022 concrete\n",
      "Loaded: FStringPartTexturePacksJsonPre2022 diamondplate\n",
      "Loaded: FStringPartTexturePacksJsonPre2022 fabric\n",
      "Loaded: FStringPartTexturePacksJsonPre2022 glass\n",
      "Loaded: FStringPartTexturePacksJsonPre2022 granite\n",
      "Loaded: FStringPartTexturePacksJsonPre2022 grass\n",
      "Loaded: FStringPartTexturePacksJsonPre2022 ice\n",
      "Loaded: FStringPartTexturePacksJsonPre2022 marble\n",
      "Loaded: FStringPartTexturePacksJsonPre2022 metal\n",
      "Loaded: FStringPartTexturePacksJsonPre2022 pebble\n",
      "Loaded: FStringPartTexturePacksJsonPre2022 rust\n",
      "Loaded: FStringPartTexturePacksJsonPre2022 sand\n",
      "Loaded: FStringPartTexturePacksJsonPre2022 slate\n",
      "Loaded: FStringPartTexturePacksJsonPre2022 wood\n",
      "Loaded: FStringPartTexturePacksJsonPre2022 woodplanks\n",
      "Loaded: FStringPartTexturePacksJsonPre2022 asphalt\n",
      "Loaded: FStringPartTexturePacksJsonPre2022 basalt\n",
      "Loaded: FStringPartTexturePacksJsonPre2022 crackedlava\n",
      "Loaded: FStringPartTexturePacksJsonPre2022 glacier\n",
      "Loaded: FStringPartTexturePacksJsonPre2022 ground\n",
      "Loaded: FStringPartTexturePacksJsonPre2022 leafygrass\n",
      "Loaded: FStringPartTexturePacksJsonPre2022 limestone\n",
      "Loaded: FStringPartTexturePacksJsonPre2022 mud\n",
      "Loaded: FStringPartTexturePacksJsonPre2022 pavement\n",
      "Loaded: FStringPartTexturePacksJsonPre2022 rock\n",
      "Loaded: FStringPartTexturePacksJsonPre2022 salt\n",
      "Loaded: FStringPartTexturePacksJsonPre2022 sandstone\n",
      "Loaded: FStringPartTexturePacksJsonPre2022 snow\n"
     ]
    }
   ],
   "source": [
    "BLOCKLIST = {\n",
    "    'alphamode',\n",
    "    'tiling',\n",
    "    'usage',\n",
    "}\n",
    "\n",
    "png_infos = []\n",
    "for pack_name, pack in result_dict.items():\n",
    "    for mtl_name, mtl in pack.items():\n",
    "        for asset_name, asset_id in mtl.items():\n",
    "            if asset_name in BLOCKLIST:\n",
    "                continue\n",
    "\n",
    "            dds_data = requests.get(\n",
    "                f'https://assetdelivery.roblox.com/v1/asset/?id={asset_id}'\n",
    "            ).content\n",
    "\n",
    "            orig_file_name = f'./images/{pack_name}/{mtl_name}/{asset_name}.png'\n",
    "            os.makedirs(os.path.dirname(orig_file_name), exist_ok=True)\n",
    "\n",
    "            png_infos.append((orig_file_name, dds_data, pack_name, mtl_name, asset_name, asset_id))\n",
    "            with open(orig_file_name, 'wb') as f:\n",
    "                f.write(dds_data)\n",
    "        print('Loaded:', pack_name, mtl_name)"
   ]
  },
  {
   "cell_type": "markdown",
   "metadata": {},
   "source": []
  },
  {
   "cell_type": "code",
   "execution_count": 11,
   "metadata": {},
   "outputs": [],
   "source": [
    "for (orig_file_name, dds_data, pack_name, mtl_name, asset_name, asset_id) in png_infos:\n",
    "    if asset_name == 'color':\n",
    "        new_asset_names = ['diffuse']\n",
    "    if asset_name == 'roughness':\n",
    "        new_asset_names = ['reflection']\n",
    "    if asset_name == 'normal':\n",
    "        new_asset_names = ['normal', 'normaldetail']\n",
    "    else:\n",
    "        new_asset_names = [asset_name]\n",
    "\n",
    "    for new_asset_name in new_asset_names:\n",
    "        new_file_name = f'./textures/{pack_name}/{mtl_name}/{new_asset_name}.dds'\n",
    "        os.makedirs(os.path.dirname(new_file_name), exist_ok=True)\n",
    "        subprocess.call([\n",
    "            'magick',\n",
    "            orig_file_name,\n",
    "            new_file_name\n",
    "        ])"
   ]
  }
 ],
 "metadata": {
  "kernelspec": {
   "display_name": "Python 3",
   "language": "python",
   "name": "python3"
  },
  "language_info": {
   "codemirror_mode": {
    "name": "ipython",
    "version": 3
   },
   "file_extension": ".py",
   "mimetype": "text/x-python",
   "name": "python",
   "nbconvert_exporter": "python",
   "pygments_lexer": "ipython3",
   "version": "3.12.1"
  }
 },
 "nbformat": 4,
 "nbformat_minor": 2
}
