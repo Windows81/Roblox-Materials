{
 "cells": [
  {
   "cell_type": "markdown",
   "metadata": {},
   "source": [
    "# Material Splaterial!!!\n",
    "You need to have ImageMagick installed on your machine.  I use `subprocess.call` to invoke `magick` as a command-line application."
   ]
  },
  {
   "cell_type": "markdown",
   "metadata": {},
   "source": [
    "## Import Python Dependencies"
   ]
  },
  {
   "cell_type": "code",
   "execution_count": 17,
   "metadata": {},
   "outputs": [],
   "source": [
    "import subprocess\n",
    "import requests\n",
    "import json\n",
    "import re\n",
    "import os"
   ]
  },
  {
   "cell_type": "markdown",
   "metadata": {},
   "source": [
    "## Open Materials"
   ]
  },
  {
   "cell_type": "code",
   "execution_count": 18,
   "metadata": {},
   "outputs": [
    {
     "name": "stdout",
     "output_type": "stream",
     "text": [
      "FStringPartTexturePacksJson2022 aluminum {'usage': '3', 'alphamode': '2', 'tiling': '1', 'normal': '9424786192', 'color': '9466552117', 'metalness': '9424786272', 'roughness': '9424786620', 'height': '9424787028'}\n",
      "FStringPartTexturePacksJson2022 asphalt {'usage': '3', 'alphamode': '2', 'tiling': '1', 'normal': '9429449876', 'color': '9930003046', 'roughness': '9429450346', 'height': '9429450811'}\n",
      "FStringPartTexturePacksJson2022 basalt {'usage': '3', 'alphamode': '2', 'tiling': '1', 'normal': '9438412214', 'color': '9920482056', 'roughness': '9438412457', 'height': '9438413060'}\n",
      "FStringPartTexturePacksJson2022 brick {'usage': '3', 'alphamode': '2', 'tiling': '1', 'normal': '9438453152', 'color': '9920482813', 'roughness': '9438453413', 'height': '9438453693'}\n",
      "FStringPartTexturePacksJson2022 cobblestone {'usage': '3', 'alphamode': '2', 'tiling': '1', 'normal': '9438457162', 'color': '9919718991', 'roughness': '9438457470', 'height': '9438459171'}\n",
      "FStringPartTexturePacksJson2022 concrete {'usage': '3', 'alphamode': '2', 'tiling': '1', 'normal': '9466554006', 'color': '9920484153', 'roughness': '9466554186', 'height': '9483087946'}\n",
      "FStringPartTexturePacksJson2022 crackedlava {'usage': '3', 'alphamode': '2', 'tiling': '1', 'normal': '9438508790', 'color': '9920484943', 'roughness': '9438509046', 'emissive': '9438581672', 'height': '9438582129'}\n",
      "FStringPartTexturePacksJson2022 diamondplate {'usage': '3', 'alphamode': '2', 'tiling': '1', 'normal': '9438583222', 'color': '10237720195', 'metalness': '9438583347', 'roughness': '9438583558', 'height': '9438585582'}\n",
      "FStringPartTexturePacksJson2022 fabric {'usage': '3', 'alphamode': '2', 'tiling': '1', 'normal': '9873280412', 'color': '9920517696', 'roughness': '9873282563', 'height': '9873284088'}\n",
      "FStringPartTexturePacksJson2022 glacier {'usage': '3', 'alphamode': '2', 'tiling': '1', 'normal': '9438812958', 'color': '9920518732', 'roughness': '9438851286', 'height': '9438851515'}\n",
      "FStringPartTexturePacksJson2022 glass {'usage': '3', 'alphamode': '2', 'tiling': '1', 'normal': '7547304785', 'color': '9438868521', 'roughness': '7547304892', 'height': '9483087946'}\n",
      "FStringPartTexturePacksJson2022 granite {'usage': '3', 'alphamode': '2', 'tiling': '1', 'normal': '9438882935', 'color': '9920550238', 'roughness': '9438883109', 'height': '9483087946'}\n",
      "FStringPartTexturePacksJson2022 grass {'usage': '3', 'alphamode': '2', 'tiling': '1', 'normal': '9438955773', 'color': '9920551868', 'roughness': '9438955997', 'height': '9438956287'}\n",
      "FStringPartTexturePacksJson2022 ground {'usage': '3', 'alphamode': '2', 'tiling': '1', 'normal': '9439043558', 'color': '9920554482', 'roughness': '9439043765', 'height': '9439044318'}\n",
      "FStringPartTexturePacksJson2022 ice {'usage': '3', 'alphamode': '2', 'tiling': '1', 'normal': '9467301039', 'color': '9920555943', 'roughness': '9467301203', 'height': '9483092251'}\n",
      "FStringPartTexturePacksJson2022 leafygrass {'usage': '3', 'alphamode': '2', 'tiling': '1', 'normal': '9439080781', 'color': '9920557906', 'roughness': '9439080950', 'height': '9439149936'}\n",
      "FStringPartTexturePacksJson2022 limestone {'usage': '3', 'alphamode': '2', 'tiling': '1', 'normal': '9439415191', 'color': '9920561437', 'roughness': '9439415495', 'height': '9439415891'}\n",
      "FStringPartTexturePacksJson2022 marble {'usage': '3', 'alphamode': '2', 'tiling': '1', 'normal': '9439431240', 'color': '9439430596', 'roughness': '9439431383', 'height': '9483087946'}\n",
      "FStringPartTexturePacksJson2022 metal {'usage': '3', 'alphamode': '2', 'tiling': '1', 'normal': '9873295432', 'color': '9920574687', 'metalness': '9873318201', 'roughness': '9873318890', 'height': '9873318979'}\n",
      "FStringPartTexturePacksJson2022 mud {'usage': '3', 'alphamode': '2', 'tiling': '1', 'normal': '9439509827', 'color': '9920578473', 'roughness': '9439510012', 'height': '9439516907'}\n",
      "FStringPartTexturePacksJson2022 pavement {'usage': '3', 'alphamode': '2', 'tiling': '1', 'normal': '9439519281', 'color': '9920579943', 'roughness': '9439519532', 'height': '9439519822'}\n",
      "FStringPartTexturePacksJson2022 pebble {'usage': '3', 'alphamode': '2', 'tiling': '1', 'normal': '9439528644', 'color': '9920581082', 'roughness': '9439537267', 'height': '9439537553'}\n",
      "FStringPartTexturePacksJson2022 plastic {'usage': '3', 'alphamode': '2', 'tiling': '1', 'normal': '9475362634'}\n",
      "FStringPartTexturePacksJson2022 rock {'usage': '3', 'alphamode': '2', 'tiling': '1', 'normal': '9439538417', 'color': '9920587470', 'roughness': '9439545859', 'height': '9439546185'}\n",
      "FStringPartTexturePacksJson2022 rust {'usage': '3', 'alphamode': '2', 'tiling': '1', 'normal': '9439548484', 'color': '9920589327', 'metalness': '9439548749', 'roughness': '9439556441', 'height': '9439556630'}\n",
      "FStringPartTexturePacksJson2022 salt {'usage': '3', 'alphamode': '2', 'tiling': '1', 'normal': '9439565809', 'color': '9920590225', 'roughness': '9439566688', 'height': '9439566920'}\n",
      "FStringPartTexturePacksJson2022 sand {'usage': '3', 'alphamode': '2', 'tiling': '1', 'normal': '9439577084', 'color': '9920591683', 'roughness': '9439577327', 'height': '9439585462'}\n",
      "FStringPartTexturePacksJson2022 sandstone {'usage': '3', 'alphamode': '2', 'tiling': '1', 'normal': '9439596530', 'color': '9920596120', 'roughness': '9439596711', 'height': '9439596814'}\n",
      "FStringPartTexturePacksJson2022 slate {'usage': '3', 'alphamode': '2', 'tiling': '1', 'normal': '9439612514', 'color': '9920599782', 'roughness': '9439612733', 'height': '9483098502'}\n",
      "FStringPartTexturePacksJson2022 snow {'usage': '3', 'alphamode': '2', 'tiling': '1', 'normal': '9439632006', 'color': '9920620284', 'roughness': '9439632145', 'height': '9439632299'}\n",
      "FStringPartTexturePacksJson2022 wood {'usage': '3', 'alphamode': '2', 'tiling': '1', 'normal': '9439641376', 'color': '9920625290', 'roughness': '9439648605', 'height': '9439648989'}\n",
      "FStringPartTexturePacksJson2022 woodplanks {'usage': '3', 'alphamode': '2', 'tiling': '1', 'normal': '9439650689', 'color': '9920626778', 'roughness': '9439658127', 'height': '9439658450'}\n",
      "FStringPartTexturePacksJsonPre2022 aluminum {'usage': '1', 'alphamode': '1', 'tiling': '1', 'normal': '7546644903', 'color': '7546644642', 'metalness': '7546644642', 'roughness': '7546644963'}\n",
      "FStringPartTexturePacksJsonPre2022 brick {'usage': '1', 'alphamode': '2', 'tiling': '2', 'normal': '7546649654', 'color': '7546648254', 'roughness': '7546650017'}\n",
      "FStringPartTexturePacksJsonPre2022 cobblestone {'usage': '1', 'alphamode': '2', 'tiling': '2', 'normal': '7546652689', 'color': '7546651802', 'roughness': '7546652892'}\n",
      "FStringPartTexturePacksJsonPre2022 concrete {'usage': '1', 'alphamode': '1', 'tiling': '1', 'normal': '7546653707', 'color': '7546653328', 'roughness': '7546653868'}\n",
      "FStringPartTexturePacksJsonPre2022 diamondplate {'usage': '1', 'alphamode': '1', 'tiling': '1', 'normal': '7546654536', 'color': '7546654401', 'metalness': '7547162002', 'roughness': '7547162137'}\n",
      "FStringPartTexturePacksJsonPre2022 fabric {'usage': '1', 'alphamode': '2', 'tiling': '1', 'normal': '7547100915', 'color': '7547100606', 'roughness': '7547101072'}\n",
      "FStringPartTexturePacksJsonPre2022 glass {'usage': '1', 'alphamode': '2', 'tiling': '1', 'normal': '7547304785', 'color': '7547304577', 'roughness': '7547304892'}\n",
      "FStringPartTexturePacksJsonPre2022 granite {'usage': '1', 'alphamode': '1', 'tiling': '1', 'normal': '7546654648', 'color': '7547164400', 'roughness': '7547164660'}\n",
      "FStringPartTexturePacksJsonPre2022 grass {'usage': '1', 'alphamode': '1', 'tiling': '2', 'normal': '7547168653', 'color': '7547167347', 'roughness': '7547169207'}\n",
      "FStringPartTexturePacksJsonPre2022 ice {'usage': '1', 'alphamode': '1', 'tiling': '1', 'normal': '7547171198', 'color': '7546644642', 'roughness': '7547171276'}\n",
      "FStringPartTexturePacksJsonPre2022 marble {'usage': '1', 'alphamode': '1', 'tiling': '2', 'normal': '7547176060', 'color': '7547174345', 'roughness': '7547177213'}\n",
      "FStringPartTexturePacksJsonPre2022 metal {'usage': '1', 'alphamode': '1', 'tiling': '1', 'normal': '7547287997', 'color': '7547178395', 'metalness': '7547288112', 'roughness': '7547179082'}\n",
      "FStringPartTexturePacksJsonPre2022 pebble {'usage': '1', 'alphamode': '1', 'tiling': '1', 'normal': '7546645052', 'color': '7547291174', 'roughness': '7547291306'}\n",
      "FStringPartTexturePacksJsonPre2022 rust {'usage': '1', 'alphamode': '2', 'tiling': '1', 'normal': '7547181182', 'color': '7547183598', 'metalness': '7547184321', 'roughness': '7547184588'}\n",
      "FStringPartTexturePacksJsonPre2022 sand {'usage': '1', 'alphamode': '1', 'tiling': '1', 'normal': '7547294810', 'color': '7547294684', 'roughness': '7547295087'}\n",
      "FStringPartTexturePacksJsonPre2022 slate {'usage': '1', 'alphamode': '1', 'tiling': '1', 'normal': '7547297808', 'color': '7547297050', 'roughness': '7547298051'}\n",
      "FStringPartTexturePacksJsonPre2022 wood {'usage': '1', 'alphamode': '1', 'tiling': '1', 'normal': '7547190548', 'color': '7547190453', 'metalness': '7547190619', 'roughness': '7547303147'}\n",
      "FStringPartTexturePacksJsonPre2022 woodplanks {'usage': '1', 'alphamode': '2', 'tiling': '2', 'normal': '7547188159', 'color': '7547301709', 'metalness': '7547188891', 'roughness': '7547332869'}\n",
      "FStringPartTexturePacksJsonPre2022 asphalt {'usage': '3', 'alphamode': '2', 'tiling': '1', 'normal': '9429449876', 'color': '9873267247', 'roughness': '9429450346', 'height': '9429450811'}\n",
      "FStringPartTexturePacksJsonPre2022 basalt {'usage': '3', 'alphamode': '2', 'tiling': '1', 'normal': '9438412214', 'color': '9873270356', 'roughness': '9438412457', 'height': '9438413060'}\n",
      "FStringPartTexturePacksJsonPre2022 crackedlava {'usage': '3', 'alphamode': '2', 'tiling': '1', 'normal': '9438508790', 'color': '9438508402', 'roughness': '9438509046', 'emissive': '9438581672', 'height': '9438582129'}\n",
      "FStringPartTexturePacksJsonPre2022 glacier {'usage': '3', 'alphamode': '2', 'tiling': '1', 'normal': '9438812958', 'color': '9438811092', 'roughness': '9438851286', 'height': '9438851515'}\n",
      "FStringPartTexturePacksJsonPre2022 ground {'usage': '3', 'alphamode': '2', 'tiling': '1', 'normal': '9439043558', 'color': '9439043136', 'roughness': '9439043765', 'height': '9439044318'}\n",
      "FStringPartTexturePacksJsonPre2022 leafygrass {'usage': '3', 'alphamode': '2', 'tiling': '1', 'normal': '9439080781', 'color': '9873287985', 'roughness': '9439080950', 'height': '9439149936'}\n",
      "FStringPartTexturePacksJsonPre2022 limestone {'usage': '3', 'alphamode': '2', 'tiling': '1', 'normal': '9439415191', 'color': '9873289710', 'roughness': '9439415495', 'height': '9439415891'}\n",
      "FStringPartTexturePacksJsonPre2022 mud {'usage': '3', 'alphamode': '2', 'tiling': '1', 'normal': '9439509827', 'color': '9873319638', 'roughness': '9439510012', 'height': '9439516907'}\n",
      "FStringPartTexturePacksJsonPre2022 pavement {'usage': '3', 'alphamode': '2', 'tiling': '1', 'normal': '9439519281', 'color': '9873322261', 'roughness': '9439519532', 'height': '9439519822'}\n",
      "FStringPartTexturePacksJsonPre2022 rock {'usage': '3', 'alphamode': '2', 'tiling': '1', 'normal': '9439538417', 'color': '9873515064', 'metalness': '9439545671', 'roughness': '9439545859', 'height': '9439546185'}\n",
      "FStringPartTexturePacksJsonPre2022 salt {'usage': '3', 'alphamode': '2', 'tiling': '1', 'normal': '9439565809', 'color': '9439557976', 'roughness': '9439566688', 'height': '9439566920'}\n",
      "FStringPartTexturePacksJsonPre2022 sandstone {'usage': '3', 'alphamode': '2', 'tiling': '1', 'normal': '9439596530', 'color': '9873521081', 'roughness': '9439596711', 'height': '9439596814'}\n",
      "FStringPartTexturePacksJsonPre2022 snow {'usage': '3', 'alphamode': '2', 'tiling': '1', 'normal': '9439632006', 'color': '9439631732', 'roughness': '9439632145', 'height': '9439632299'}\n"
     ]
    }
   ],
   "source": [
    "material_packs = json.load(open('MaterialPacks.json', 'r'))\n",
    "\n",
    "result_dict = {}\n",
    "for pack_name, pack in material_packs.items():\n",
    "    png_infos = {}\n",
    "    for mtl_name, mtl in pack.items():\n",
    "        asset_id = [\n",
    "            requests.get(\n",
    "                f'https://assetdelivery.roblox.com/v1/asset/?id={asset_id}'\n",
    "            ).text\n",
    "            # `reversed` is called so that earlier ids get precedence.\n",
    "            for asset_id in reversed(mtl['ids'])\n",
    "        ]\n",
    "        mtl_result = dict(re.findall(r'<([a-z]+)>([0-9]+)', ''.join(asset_id)))\n",
    "        print(pack_name, mtl_name, mtl_result)\n",
    "        png_infos[mtl_name] = mtl_result\n",
    "    result_dict[pack_name] = png_infos"
   ]
  },
  {
   "cell_type": "markdown",
   "metadata": {},
   "source": [
    "## Save Assets (as `png` files)"
   ]
  },
  {
   "cell_type": "code",
   "execution_count": 20,
   "metadata": {},
   "outputs": [
    {
     "name": "stdout",
     "output_type": "stream",
     "text": [
      "Loaded: FStringPartTexturePacksJson2022 aluminum\n",
      "Loaded: FStringPartTexturePacksJson2022 asphalt\n",
      "Loaded: FStringPartTexturePacksJson2022 basalt\n",
      "Loaded: FStringPartTexturePacksJson2022 brick\n",
      "Loaded: FStringPartTexturePacksJson2022 cobblestone\n",
      "Loaded: FStringPartTexturePacksJson2022 concrete\n",
      "Loaded: FStringPartTexturePacksJson2022 crackedlava\n",
      "Loaded: FStringPartTexturePacksJson2022 diamondplate\n",
      "Loaded: FStringPartTexturePacksJson2022 fabric\n",
      "Loaded: FStringPartTexturePacksJson2022 glacier\n",
      "Loaded: FStringPartTexturePacksJson2022 glass\n",
      "Loaded: FStringPartTexturePacksJson2022 granite\n",
      "Loaded: FStringPartTexturePacksJson2022 grass\n",
      "Loaded: FStringPartTexturePacksJson2022 ground\n",
      "Loaded: FStringPartTexturePacksJson2022 ice\n",
      "Loaded: FStringPartTexturePacksJson2022 leafygrass\n",
      "Loaded: FStringPartTexturePacksJson2022 limestone\n",
      "Loaded: FStringPartTexturePacksJson2022 marble\n",
      "Loaded: FStringPartTexturePacksJson2022 metal\n",
      "Loaded: FStringPartTexturePacksJson2022 mud\n",
      "Loaded: FStringPartTexturePacksJson2022 pavement\n",
      "Loaded: FStringPartTexturePacksJson2022 pebble\n",
      "Loaded: FStringPartTexturePacksJson2022 plastic\n",
      "Loaded: FStringPartTexturePacksJson2022 rock\n",
      "Loaded: FStringPartTexturePacksJson2022 rust\n",
      "Loaded: FStringPartTexturePacksJson2022 salt\n",
      "Loaded: FStringPartTexturePacksJson2022 sand\n",
      "Loaded: FStringPartTexturePacksJson2022 sandstone\n",
      "Loaded: FStringPartTexturePacksJson2022 slate\n",
      "Loaded: FStringPartTexturePacksJson2022 snow\n",
      "Loaded: FStringPartTexturePacksJson2022 wood\n",
      "Loaded: FStringPartTexturePacksJson2022 woodplanks\n",
      "Loaded: FStringPartTexturePacksJsonPre2022 aluminum\n",
      "Loaded: FStringPartTexturePacksJsonPre2022 brick\n",
      "Loaded: FStringPartTexturePacksJsonPre2022 cobblestone\n",
      "Loaded: FStringPartTexturePacksJsonPre2022 concrete\n",
      "Loaded: FStringPartTexturePacksJsonPre2022 diamondplate\n",
      "Loaded: FStringPartTexturePacksJsonPre2022 fabric\n",
      "Loaded: FStringPartTexturePacksJsonPre2022 glass\n",
      "Loaded: FStringPartTexturePacksJsonPre2022 granite\n",
      "Loaded: FStringPartTexturePacksJsonPre2022 grass\n",
      "Loaded: FStringPartTexturePacksJsonPre2022 ice\n",
      "Loaded: FStringPartTexturePacksJsonPre2022 marble\n",
      "Loaded: FStringPartTexturePacksJsonPre2022 metal\n",
      "Loaded: FStringPartTexturePacksJsonPre2022 pebble\n",
      "Loaded: FStringPartTexturePacksJsonPre2022 rust\n",
      "Loaded: FStringPartTexturePacksJsonPre2022 sand\n",
      "Loaded: FStringPartTexturePacksJsonPre2022 slate\n",
      "Loaded: FStringPartTexturePacksJsonPre2022 wood\n",
      "Loaded: FStringPartTexturePacksJsonPre2022 woodplanks\n"
     ]
    }
   ],
   "source": [
    "BLOCKLIST = {\n",
    "    'alphamode',\n",
    "    'tiling',\n",
    "    'usage',\n",
    "}\n",
    "\n",
    "png_infos = []\n",
    "for pack_name, pack in result_dict.items():\n",
    "    for mtl_name, mtl in pack.items():\n",
    "        for asset_name, asset_id in mtl.items():\n",
    "            if asset_name in BLOCKLIST:\n",
    "                continue\n",
    "\n",
    "            dds_data = requests.get(\n",
    "                f'https://assetdelivery.roblox.com/v1/asset/?id={asset_id}'\n",
    "            ).content\n",
    "\n",
    "            orig_file_name = f'./images/{pack_name}/{mtl_name}/{asset_name}.png'\n",
    "            os.makedirs(os.path.dirname(orig_file_name), exist_ok=True)\n",
    "\n",
    "            png_infos.append((orig_file_name, dds_data, pack_name, mtl_name, asset_name, asset_id))\n",
    "            with open(orig_file_name, 'wb') as f:\n",
    "                f.write(dds_data)\n",
    "        print('Loaded:', pack_name, mtl_name)"
   ]
  },
  {
   "cell_type": "markdown",
   "metadata": {},
   "source": [
    "## Convert Assets"
   ]
  },
  {
   "cell_type": "code",
   "execution_count": null,
   "metadata": {},
   "outputs": [],
   "source": [
    "for (orig_file_name, dds_data, pack_name, mtl_name, asset_name, asset_id) in png_infos:\n",
    "    middle_piece = ()\n",
    "    if asset_name == 'color':\n",
    "        new_asset_names = ['diffuse']\n",
    "    elif asset_name == 'roughness':\n",
    "        new_asset_names = ['reflection']\n",
    "        middle_piece = ('-colorspace', 'sRGB', '-color-matrix', '0, 0, 0, 0, 1, 0, 0, 0, 0')\n",
    "    elif asset_name == 'normal':\n",
    "        new_asset_names = ['normal', 'normaldetail']\n",
    "    elif asset_name == 'height':\n",
    "        continue\n",
    "    else:\n",
    "        new_asset_names = [asset_name]\n",
    "\n",
    "    for new_asset_name in new_asset_names:\n",
    "        new_file_name = f'./textures/{pack_name}/{mtl_name}/{new_asset_name}.dds'\n",
    "        os.makedirs(os.path.dirname(new_file_name), exist_ok=True)\n",
    "        subprocess.call([\n",
    "            r'c:\\Program Files\\ImageMagick-7.1.1-Q16-HDRI\\magick.exe',\n",
    "            orig_file_name,\n",
    "            *middle_piece,\n",
    "            new_file_name,\n",
    "        ])"
   ]
  }
 ],
 "metadata": {
  "kernelspec": {
   "display_name": "Python 3",
   "language": "python",
   "name": "python3"
  },
  "language_info": {
   "codemirror_mode": {
    "name": "ipython",
    "version": 3
   },
   "file_extension": ".py",
   "mimetype": "text/x-python",
   "name": "python",
   "nbconvert_exporter": "python",
   "pygments_lexer": "ipython3",
   "version": "3.12.1"
  }
 },
 "nbformat": 4,
 "nbformat_minor": 2
}
